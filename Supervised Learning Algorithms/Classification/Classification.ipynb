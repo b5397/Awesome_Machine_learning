{
 "cells": [
  {
   "cell_type": "markdown",
   "id": "f63e3e08",
   "metadata": {},
   "source": [
    "**`CLASSIFICATION`**\n",
    "--"
   ]
  },
  {
   "cell_type": "markdown",
   "id": "73d39549",
   "metadata": {},
   "source": [
    "**`Introduction`**\n",
    "\n",
    "**As we know, the Supervised Machine Learning algorithm can be broadly classified into Regression and Classification Algorithms. In Regression algorithms, we have predicted the output for continuous values, but to predict the categorical values, we need Classification algorithms**"
   ]
  },
  {
   "cell_type": "markdown",
   "id": "05ed765b",
   "metadata": {},
   "source": [
    "**`What is the Classification Algorithm?`**"
   ]
  },
  {
   "cell_type": "markdown",
   "id": "e73974ed",
   "metadata": {},
   "source": [
    "**The Classification algorithm is a Supervised Learning technique that is used to identify the category of new observations on the basis of training data. In Classification, a program learns from the given dataset or observations and then classifies new observation into a number of classes or groups.** \n",
    "* Such as, Yes or No, 0 or 1, Spam or Not Spam, cat or dog, etc. Classes can be called as targets/labels or categories"
   ]
  },
  {
   "cell_type": "markdown",
   "id": "0c7351f1",
   "metadata": {},
   "source": [
    "For example, you might analyze the employees of some company and try to establish a dependence on the features or variables, such as the **level of education, number of years in a current position, age, salary, odds for being promoted,** and so on. \n",
    "\n",
    "1. **Independent variables**, also called inputs or predictors, don’t depend on other features of interest (or at least you assume so for the purpose of the analysis).\n",
    "2. **Dependent variables**, also called outputs or responses, depend on the independent variables."
   ]
  },
  {
   "cell_type": "markdown",
   "id": "269d140c",
   "metadata": {},
   "source": [
    "**The main goal of the Classification algorithm is to identify the category of a given dataset, and these algorithms are mainly used to predict the output for the categorical data**"
   ]
  },
  {
   "cell_type": "markdown",
   "id": "cdf34a05",
   "metadata": {},
   "source": [
    "**Classification algorithms can be better understood using the below diagram. In the below diagram, there are two classes, class A and Class B. These classes have features that are similar to each other and dissimilar to other classes.**"
   ]
  },
  {
   "cell_type": "code",
   "execution_count": 4,
   "id": "cf247197",
   "metadata": {
    "scrolled": true
   },
   "outputs": [
    {
     "data": {
      "image/png": "[encoded data removed]",
      "text/plain": [
       "<IPython.core.display.Image object>"
      ]
     },
     "execution_count": 4,
     "metadata": {
      "image/png": {
       "height": 80,
       "width": 500
      }
     },
     "output_type": "execute_result"
    }
   ],
   "source": [
    "from IPython import display\n",
    "display.Image(\"./classification.png\",width = 500, height = 80)"
   ]
  },
  {
   "cell_type": "markdown",
   "id": "cfc055f0",
   "metadata": {},
   "source": [
    "The algorithm which implements the classification on a dataset is known as a **classifier**.\n",
    "\n",
    "`There are two types of Classifications:`\n",
    "\n",
    "**Binary Classifier**: If the classification problem has only two possible outcomes, then it is called as Binary Classifier.\n",
    "\n",
    "* Examples: YES or NO, MALE or FEMALE, SPAM or NOT SPAM, CAT or DOG, etc.\n",
    "\n",
    "**Multi-class Classifier**: If a classification problem has more than two outcomes, then it is called as Multi-class Classifier.\n",
    "* Example: Classifications of types of crops, Classification of types of music."
   ]
  },
  {
   "cell_type": "markdown",
   "id": "2e73cac0",
   "metadata": {},
   "source": [
    "**`Types of ML Classification Algorithms:`**\n",
    "\n",
    "Classification Algorithms can be further divided into the Mainly two category:\n",
    "\n",
    "`Linear Models`\n",
    ">Logistic Regression\n",
    "\n",
    ">Support Vector Machines\n",
    "\n",
    "`Non-linear Models`\n",
    ">K-Nearest Neighbours\n",
    "\n",
    ">Kernel SVM\n",
    "\n",
    ">Naïve Bayes\n",
    "\n",
    ">Decision Tree Classification\n",
    "\n",
    ">Random Forest Classification"
   ]
  },
  {
   "cell_type": "markdown",
   "id": "cf50faa3",
   "metadata": {},
   "source": [
    "**`Evaluating a Classification model:`**"
   ]
  },
  {
   "cell_type": "markdown",
   "id": "4ed356d7",
   "metadata": {},
   "source": [
    "**Once our model is completed, it is necessary to evaluate its performance; either it is a Classification or Regression model. So for evaluating a Classification model, we have the following ways:**\n",
    ">1. Log Loss or Cross-Entropy Loss:\n",
    "* It is used for evaluating the performance of a classifier, whose output is a probability value between the 0 and 1.\n",
    "* For a good binary Classification model, the value of log loss should be near to 0.\n",
    "* The value of log loss increases if the predicted value deviates from the actual value.\n",
    "* The lower log loss represents the higher accuracy of the model.\n",
    "* For Binary classification, cross-entropy can be calculated as:"
   ]
  },
  {
   "cell_type": "markdown",
   "id": "03aca427",
   "metadata": {},
   "source": [
    ">2. Confusion Matrix:\n",
    "\n",
    "* The confusion matrix provides us a matrix/table as output and describes the performance of the model.\n",
    "* It is also known as the error matrix.\n",
    "* The matrix consists of predictions result in a summarized form, which has a total number of correct predictions and incorrect predictions."
   ]
  },
  {
   "cell_type": "markdown",
   "id": "b6dcffbe",
   "metadata": {},
   "source": [
    ">3. AUC-ROC curve:\n",
    "\n",
    "* ROC curve stands for Receiver Operating Characteristics Curve and AUC stands for Area Under the Curve.\n",
    "* It is a graph that shows the performance of the classification model at different thresholds.\n",
    "* To visualize the performance of the multi-class classification model, we use the AUC-ROC Curve.\n",
    "* The ROC curve is plotted with TPR and FPR, where TPR (True Positive Rate) on Y-axis and FPR(False Positive Rate) on X-axis."
   ]
  },
  {
   "cell_type": "markdown",
   "id": "124d40f8",
   "metadata": {},
   "source": [
    "**`Use cases of Classification Algorithms`**\n",
    "\n",
    "Classification algorithms can be used in different places. Below are some popular use cases of Classification Algorithms:\n",
    "\n",
    ">Email Spam Detection\n",
    "\n",
    ">Speech Recognition\n",
    "\n",
    ">Identifications of Cancer tumor cells.\n",
    "\n",
    ">Drugs Classification.\n",
    "\n",
    ">Biometric Identification, etc."
   ]
  },
  {
   "cell_type": "markdown",
   "id": "e01850b9",
   "metadata": {},
   "source": [
    "*****************************************************************************************************************************"
   ]
  }
 ],
 "metadata": {
  "kernelspec": {
   "display_name": "Python 3",
   "language": "python",
   "name": "python3"
  },
  "language_info": {
   "codemirror_mode": {
    "name": "ipython",
    "version": 3
   },
   "file_extension": ".py",
   "mimetype": "text/x-python",
   "name": "python",
   "nbconvert_exporter": "python",
   "pygments_lexer": "ipython3",
   "version": "3.8.8"
  }
 },
 "nbformat": 4,
 "nbformat_minor": 5
}
